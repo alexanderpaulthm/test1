{
 "cells": [
  {
   "cell_type": "markdown",
   "metadata": {},
   "source": [
    "# SignXAI-Torch Basic Usage Example\n",
    "\n",
    "This notebook demonstrates the usage of the SignXAI-Torch package with different visualization methods."
   ]
  },
  {
   "cell_type": "code",
   "metadata": {},
   "source": [
    "import torch\n",
    "import torch.nn as nn\n",
    "import torchvision.models as models\n",
    "import torchvision.transforms as transforms\n",
    "from PIL import Image\n",
    "import matplotlib.pyplot as plt\n",
    "import numpy as np\n",
    "\n",
    "from signxai_torch.methods.wrapper import calculate_relevancemap\n",
    "from signxai_torch.utils.visualization import normalize_attribution\n",
    "\n",
    "%matplotlib inline\n",
    "plt.rcParams['figure.figsize'] = [15, 10]"
   ],
   "outputs": [],
   "execution_count": null
  },
  {
   "cell_type": "markdown",
   "metadata": {},
   "source": [
    "## Load and Preprocess Image"
   ]
  },
  {
   "cell_type": "code",
   "metadata": {},
   "source": [
    "def load_and_preprocess_image(image_path):\n",
    "    # Load image\n",
    "    img = Image.open(image_path)\n",
    "    \n",
    "    # Define transforms\n",
    "    transform = transforms.Compose([\n",
    "        transforms.Resize(256),\n",
    "        transforms.CenterCrop(224),\n",
    "        transforms.ToTensor(),\n",
    "        transforms.Normalize(mean=[0.485, 0.456, 0.406], std=[0.229, 0.224, 0.225])\n",
    "    ])\n",
    "    \n",
    "    # Transform image\n",
    "    input_tensor = transform(img)\n",
    "    input_tensor = input_tensor.unsqueeze(0)  # Add batch dimension\n",
    "    \n",
    "    return img, input_tensor\n",
    "\n",
    "# Load image\n",
    "img, input_tensor = load_and_preprocess_image('testimage.jpg')\n",
    "\n",
    "# Display original image\n",
    "plt.imshow(img)\n",
    "plt.axis('off')\n",
    "plt.title('Original Image')\n",
    "plt.show()"
   ],
   "outputs": [],
   "execution_count": null
  },
  {
   "cell_type": "markdown",
   "metadata": {},
   "source": [
    "## Load Model"
   ]
  },
  {
   "cell_type": "code",
   "metadata": {},
   "source": [
    "# Load pretrained VGG16\n",
    "model = models.vgg16(pretrained=True)\n",
    "model.eval()\n",
    "\n",
    "# Remove softmax from last layer\n",
    "model.classifier[-1] = nn.Linear(in_features=4096, out_features=1000, bias=True)"
   ],
   "outputs": [],
   "execution_count": null
  },
  {
   "cell_type": "markdown",
   "metadata": {},
   "source": [
    "## Apply Different Methods"
   ]
  },
  {
   "cell_type": "code",
   "metadata": {},
   "source": [
    "def visualize_attribution(attribution, title):\n",
    "    plt.figure(figsize=(5, 5))\n",
    "    plt.imshow(normalize_attribution(attribution[0].sum(dim=0).cpu().numpy()), \n",
    "               cmap='seismic', \n",
    "               clim=(-1, 1))\n",
    "    plt.title(title)\n",
    "    plt.axis('off')\n",
    "\n",
    "# List of methods to demonstrate\n",
    "methods = {\n",
    "    'gradient': 'Basic gradient',\n",
    "    'gradient_x_input': 'Input × Gradient',\n",
    "    'gradient_x_sign_mu_0': 'SIGN (μ=0)',\n",
    "    'guided_backprop': 'Guided Backprop',\n",
    "    'smoothgrad': 'SmoothGrad',\n",
    "    'grad_cam_VGG16ILSVRC': 'Grad-CAM',\n",
    "    'integrated_gradients': 'Integrated Gradients',\n",
    "    'lrp_z': 'LRP-Z',\n",
    "    'lrp_epsilon_0_1': 'LRP-ε (ε=0.1)',\n",
    "    'lrp_alpha_1_beta_0': 'LRP-αβ (α=1,β=0)',\n",
    "    'lrpsign_epsilon_0_1': 'LRP-SIGN (ε=0.1)'\n",
    "}\n",
    "\n",
    "# Create visualizations for each method\n",
    "rows = (len(methods) + 2) // 3\n",
    "fig, axes = plt.subplots(rows, 3, figsize=(15, 5*rows))\n",
    "axes = axes.ravel()\n",
    "\n",
    "# Show original image in first subplot\n",
    "axes[0].imshow(np.array(img))\n",
    "axes[0].set_title(\"Original Image\")\n",
    "axes[0].axis('off')\n",
    "\n",
    "# Apply each method and visualize\n",
    "for i, (method_name, method_title) in enumerate(methods.items(), start=1):\n",
    "    try:\n",
    "        with torch.enable_grad():\n",
    "            attribution = calculate_relevancemap(method_name, input_tensor.detach().requires_grad_(True), model)\n",
    "            if attribution is not None:\n",
    "                # Compute visualization\n",
    "                attribution_vis = normalize_attribution(\n",
    "                    attribution[0].detach().sum(dim=0).cpu().numpy(),\n",
    "                    symmetric=True  # Use symmetric normalization for better visualization\n",
    "                )\n",
    "                # Plot\n",
    "                axes[i].imshow(attribution_vis, cmap='seismic', clim=(-1, 1))\n",
    "                axes[i].set_title(method_title)\n",
    "            else:\n",
    "                axes[i].text(0.5, 0.5, 'Failed', horizontalalignment='center')\n",
    "    except Exception as e:\n",
    "        print(f\"Failed to compute {method_title}: {str(e)}\")\n",
    "        axes[i].text(0.5, 0.5, 'Error', horizontalalignment='center')\n",
    "    axes[i].axis('off')\n",
    "\n",
    "# Hide empty subplots\n",
    "for i in range(len(methods) + 1, len(axes)):\n",
    "    axes[i].axis('off')\n",
    "\n",
    "plt.tight_layout()\n",
    "plt.show()"
   ],
   "outputs": [],
   "execution_count": null
  },
  {
   "cell_type": "markdown",
   "metadata": {},
   "source": [
    "## Compare SIGN Variants"
   ]
  },
  {
   "cell_type": "code",
   "metadata": {},
   "source": [
    "# Compare different mu values for SIGN\n",
    "sign_methods = [\n",
    "    'gradient_x_sign_mu_neg_0_5',\n",
    "    'gradient_x_sign_mu_0',\n",
    "    'gradient_x_sign_mu_0_5'\n",
    "]\n",
    "\n",
    "fig, axes = plt.subplots(1, 3, figsize=(15, 5))\n",
    "\n",
    "for i, method in enumerate(sign_methods):\n",
    "    attribution = calculate_relevancemap(method, input_tensor, model)\n",
    "    attribution_vis = normalize_attribution(attribution[0].sum(dim=0).cpu().numpy())\n",
    "    axes[i].imshow(attribution_vis, cmap='seismic', clim=(-1, 1))\n",
    "    axes[i].set_title(method)\n",
    "    axes[i].axis('off')\n",
    "\n",
    "plt.tight_layout()\n",
    "plt.show()"
   ],
   "outputs": [],
   "execution_count": null
  },
  {
   "cell_type": "markdown",
   "metadata": {},
   "source": [
    "## Compare LRP Variants"
   ]
  },
  {
   "cell_type": "code",
   "metadata": {},
   "source": [
    "# Compare different LRP variants\n",
    "lrp_methods = [\n",
    "    'lrp_z',\n",
    "    'lrp_epsilon_0_1',\n",
    "    'lrp_epsilon_1',\n",
    "    'lrpsign_epsilon_0_1',\n",
    "    'lrp_alpha_1_beta_0',\n",
    "    'lrp_sequential_composite_a'\n",
    "]\n",
    "\n",
    "rows = (len(lrp_methods) + 2) // 3\n",
    "fig, axes = plt.subplots(rows, 3, figsize=(15, 5*rows))\n",
    "axes = axes.ravel()\n",
    "\n",
    "for i, method in enumerate(lrp_methods):\n",
    "    attribution = calculate_relevancemap(method, input_tensor, model)\n",
    "    attribution_vis = normalize_attribution(attribution[0].sum(dim=0).cpu().numpy())\n",
    "    axes[i].imshow(attribution_vis, cmap='seismic', clim=(-1, 1))\n",
    "    axes[i].set_title(method)\n",
    "    axes[i].axis('off')\n",
    "\n",
    "for i in range(len(lrp_methods), len(axes)):\n",
    "    axes[i].axis('off')\n",
    "\n",
    "plt.tight_layout()\n",
    "plt.show()"
   ],
   "outputs": [],
   "execution_count": null
  }
 ],
 "metadata": {
  "kernelspec": {
   "display_name": "Python 3",
   "language": "python",
   "name": "python3"
  },
  "language_info": {
   "codemirror_mode": {
    "name": "ipython",
    "version": 3
   },
   "file_extension": ".py",
   "mimetype": "text/x-python",
   "name": "python",
   "nbconvert_exporter": "python",
   "pygments_lexer": "ipython3",
   "version": "3.9.20"
  }
 },
 "nbformat": 4,
 "nbformat_minor": 4
}
